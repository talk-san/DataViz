{
 "cells": [
  {
   "cell_type": "code",
   "id": "82e64ef8668f3156",
   "metadata": {
    "ExecuteTime": {
     "end_time": "2025-02-02T15:24:51.860996Z",
     "start_time": "2025-02-02T15:24:51.699566Z"
    }
   },
   "source": [
    "import pandas as pd\n",
    "\n",
    "# --- Part 1 ---\n",
    "\n",
    "# 1. Load the dataset. Check the first 5 rows.\n",
    "print(\"First 5 rows: \")\n",
    "df = pd.read_csv(\"crime_data.csv\")\n",
    "print(df.head())"
   ],
   "outputs": [
    {
     "name": "stdout",
     "output_type": "stream",
     "text": [
      "First 5 rows: \n",
      "       DR_NO               Date Rptd                DATE OCC  TIME OCC  AREA  \\\n",
      "0  241711715  08/01/2024 12:00:00 AM  08/01/2024 12:00:00 AM      1319    17   \n",
      "1  231014031  09/21/2023 12:00:00 AM  09/15/2023 12:00:00 AM      1930    10   \n",
      "2  231010808  06/27/2023 12:00:00 AM  06/26/2023 12:00:00 AM      1230    10   \n",
      "3  211410441  04/25/2021 12:00:00 AM  04/25/2021 12:00:00 AM      2330    14   \n",
      "4  211114569  10/25/2021 12:00:00 AM  10/25/2021 12:00:00 AM      1455    11   \n",
      "\n",
      "     AREA NAME  Rpt Dist No  Part 1-2  Crm Cd  \\\n",
      "0   Devonshire         1791         1     440   \n",
      "1  West Valley         1011         2     354   \n",
      "2  West Valley         1015         2     354   \n",
      "3      Pacific         1488         2     626   \n",
      "4    Northeast         1123         1     210   \n",
      "\n",
      "                          Crm Cd Desc  ... Status  Status Desc Crm Cd 1  \\\n",
      "0  THEFT PLAIN - PETTY ($950 & UNDER)  ...     IC  Invest Cont    440.0   \n",
      "1                   THEFT OF IDENTITY  ...     IC  Invest Cont    354.0   \n",
      "2                   THEFT OF IDENTITY  ...     IC  Invest Cont    354.0   \n",
      "3   INTIMATE PARTNER - SIMPLE ASSAULT  ...     IC  Invest Cont    626.0   \n",
      "4                             ROBBERY  ...     IC  Invest Cont    210.0   \n",
      "\n",
      "  Crm Cd 2  Crm Cd 3 Crm Cd 4                                  LOCATION  \\\n",
      "0      NaN       NaN      NaN   8300    KELVIN                       AV   \n",
      "1      NaN       NaN      NaN  18900    CANTLAY                      ST   \n",
      "2      NaN       NaN      NaN   7300    ENFIELD                      AV   \n",
      "3      NaN       NaN      NaN   5800 W  CENTURY                      BL   \n",
      "4      NaN       NaN      NaN   2900    LOS FELIZ                    BL   \n",
      "\n",
      "  Cross Street      LAT       LON  \n",
      "0          NaN  34.2200 -118.5863  \n",
      "1          NaN  34.2023 -118.5458  \n",
      "2          NaN  34.2033 -118.5241  \n",
      "3          NaN  33.9456 -118.3835  \n",
      "4          NaN   0.0000    0.0000  \n",
      "\n",
      "[5 rows x 28 columns]\n"
     ]
    }
   ],
   "execution_count": 31
  },
  {
   "metadata": {
    "ExecuteTime": {
     "end_time": "2025-02-02T15:24:51.894061Z",
     "start_time": "2025-02-02T15:24:51.867Z"
    }
   },
   "cell_type": "code",
   "source": [
    "# 2. Identify columns with missing values and their respective counts. Drop columns where more than\n",
    "# 50% of the data is missing (store this version as a new dataset).\n",
    "print(\"\\nMissing values count per column: \")\n",
    "missing_counts = df.isnull().sum()\n",
    "print(missing_counts)\n",
    "\n",
    "threshold = len(df) * 0.5\n",
    "cols_to_drop = missing_counts[missing_counts > threshold].index.tolist()\n",
    "print(f\"\\nColumns to drop (more than 50% missing): {cols_to_drop}\")\n",
    "\n",
    "df_clean = df.drop(columns=cols_to_drop)\n",
    "\n",
    "print(\"\\nData after dropping columns:\")\n",
    "print(df_clean.head())"
   ],
   "id": "183fbeeb97ee2a2",
   "outputs": [
    {
     "name": "stdout",
     "output_type": "stream",
     "text": [
      "\n",
      "Missing values count per column: \n",
      "DR_NO                 0\n",
      "Date Rptd             0\n",
      "DATE OCC              0\n",
      "TIME OCC              0\n",
      "AREA                  0\n",
      "AREA NAME             0\n",
      "Rpt Dist No           0\n",
      "Part 1-2              0\n",
      "Crm Cd                0\n",
      "Crm Cd Desc           0\n",
      "Mocodes            7498\n",
      "Vict Age              0\n",
      "Vict Sex           7163\n",
      "Vict Descent       7165\n",
      "Premis Cd             0\n",
      "Premis Desc          29\n",
      "Weapon Used Cd    33654\n",
      "Weapon Desc       33654\n",
      "Status                0\n",
      "Status Desc           0\n",
      "Crm Cd 1              2\n",
      "Crm Cd 2          46448\n",
      "Crm Cd 3          49885\n",
      "Crm Cd 4          49995\n",
      "LOCATION              0\n",
      "Cross Street      42258\n",
      "LAT                   0\n",
      "LON                   0\n",
      "dtype: int64\n",
      "\n",
      "Columns to drop (more than 50% missing): ['Weapon Used Cd', 'Weapon Desc', 'Crm Cd 2', 'Crm Cd 3', 'Crm Cd 4', 'Cross Street']\n",
      "\n",
      "Data after dropping columns with >50% missing values:\n",
      "       DR_NO               Date Rptd                DATE OCC  TIME OCC  AREA  \\\n",
      "0  241711715  08/01/2024 12:00:00 AM  08/01/2024 12:00:00 AM      1319    17   \n",
      "1  231014031  09/21/2023 12:00:00 AM  09/15/2023 12:00:00 AM      1930    10   \n",
      "2  231010808  06/27/2023 12:00:00 AM  06/26/2023 12:00:00 AM      1230    10   \n",
      "3  211410441  04/25/2021 12:00:00 AM  04/25/2021 12:00:00 AM      2330    14   \n",
      "4  211114569  10/25/2021 12:00:00 AM  10/25/2021 12:00:00 AM      1455    11   \n",
      "\n",
      "     AREA NAME  Rpt Dist No  Part 1-2  Crm Cd  \\\n",
      "0   Devonshire         1791         1     440   \n",
      "1  West Valley         1011         2     354   \n",
      "2  West Valley         1015         2     354   \n",
      "3      Pacific         1488         2     626   \n",
      "4    Northeast         1123         1     210   \n",
      "\n",
      "                          Crm Cd Desc  ... Vict Sex  Vict Descent Premis Cd  \\\n",
      "0  THEFT PLAIN - PETTY ($950 & UNDER)  ...        M             O     501.0   \n",
      "1                   THEFT OF IDENTITY  ...        F             W     501.0   \n",
      "2                   THEFT OF IDENTITY  ...        F             O     501.0   \n",
      "3   INTIMATE PARTNER - SIMPLE ASSAULT  ...        F             B     503.0   \n",
      "4                             ROBBERY  ...        X             X     412.0   \n",
      "\n",
      "                                Premis Desc  Status  Status Desc Crm Cd 1  \\\n",
      "0                    SINGLE FAMILY DWELLING      IC  Invest Cont    440.0   \n",
      "1                    SINGLE FAMILY DWELLING      IC  Invest Cont    354.0   \n",
      "2                    SINGLE FAMILY DWELLING      IC  Invest Cont    354.0   \n",
      "3                                     HOTEL      IC  Invest Cont    626.0   \n",
      "4  ELECTRONICS STORE (IE:RADIO SHACK, ETC.)      IC  Invest Cont    210.0   \n",
      "\n",
      "                                   LOCATION      LAT       LON  \n",
      "0   8300    KELVIN                       AV  34.2200 -118.5863  \n",
      "1  18900    CANTLAY                      ST  34.2023 -118.5458  \n",
      "2   7300    ENFIELD                      AV  34.2033 -118.5241  \n",
      "3   5800 W  CENTURY                      BL  33.9456 -118.3835  \n",
      "4   2900    LOS FELIZ                    BL   0.0000    0.0000  \n",
      "\n",
      "[5 rows x 22 columns]\n"
     ]
    }
   ],
   "execution_count": 32
  },
  {
   "metadata": {
    "ExecuteTime": {
     "end_time": "2025-02-02T15:24:52.049734Z",
     "start_time": "2025-02-02T15:24:51.910857Z"
    }
   },
   "cell_type": "code",
   "source": [
    "# 3. Convert the DATE OCC column to a datetime format. Extract the year, month, and day into separate\n",
    "# columns. Create a new column for the hour using the TIME OCC column.\n",
    "\n",
    "date_format = \"%m/%d/%Y %I:%M:%S %p\"\n",
    "df_clean[\"DATE OCC\"] = pd.to_datetime(df_clean[\"DATE OCC\"], format=date_format, errors=\"coerce\")\n",
    "df_clean[\"Year\"] = df_clean[\"DATE OCC\"].dt.year\n",
    "df_clean[\"Month\"] = df_clean[\"DATE OCC\"].dt.month\n",
    "df_clean[\"Day\"] = df_clean[\"DATE OCC\"].dt.day\n",
    "\n",
    "df_clean[\"TIME OCC\"] = df_clean[\"TIME OCC\"].astype(str).str.zfill(4)\n",
    "df_clean[\"Hour\"] = df_clean[\"TIME OCC\"].str[:2].astype(int)\n",
    "\n",
    "print(\"\\nAfter cleanup:\")\n",
    "print(df_clean.head())"
   ],
   "id": "990557e316ffdbc",
   "outputs": [
    {
     "name": "stdout",
     "output_type": "stream",
     "text": [
      "\n",
      "After cleanup:\n",
      "       DR_NO               Date Rptd   DATE OCC TIME OCC  AREA    AREA NAME  \\\n",
      "0  241711715  08/01/2024 12:00:00 AM 2024-08-01     1319    17   Devonshire   \n",
      "1  231014031  09/21/2023 12:00:00 AM 2023-09-15     1930    10  West Valley   \n",
      "2  231010808  06/27/2023 12:00:00 AM 2023-06-26     1230    10  West Valley   \n",
      "3  211410441  04/25/2021 12:00:00 AM 2021-04-25     2330    14      Pacific   \n",
      "4  211114569  10/25/2021 12:00:00 AM 2021-10-25     1455    11    Northeast   \n",
      "\n",
      "   Rpt Dist No  Part 1-2  Crm Cd                         Crm Cd Desc  ...  \\\n",
      "0         1791         1     440  THEFT PLAIN - PETTY ($950 & UNDER)  ...   \n",
      "1         1011         2     354                   THEFT OF IDENTITY  ...   \n",
      "2         1015         2     354                   THEFT OF IDENTITY  ...   \n",
      "3         1488         2     626   INTIMATE PARTNER - SIMPLE ASSAULT  ...   \n",
      "4         1123         1     210                             ROBBERY  ...   \n",
      "\n",
      "  Status  Status Desc Crm Cd 1                                  LOCATION  \\\n",
      "0     IC  Invest Cont    440.0   8300    KELVIN                       AV   \n",
      "1     IC  Invest Cont    354.0  18900    CANTLAY                      ST   \n",
      "2     IC  Invest Cont    354.0   7300    ENFIELD                      AV   \n",
      "3     IC  Invest Cont    626.0   5800 W  CENTURY                      BL   \n",
      "4     IC  Invest Cont    210.0   2900    LOS FELIZ                    BL   \n",
      "\n",
      "       LAT       LON  Year Month  Day Hour  \n",
      "0  34.2200 -118.5863  2024     8    1   13  \n",
      "1  34.2023 -118.5458  2023     9   15   19  \n",
      "2  34.2033 -118.5241  2023     6   26   12  \n",
      "3  33.9456 -118.3835  2021     4   25   23  \n",
      "4   0.0000    0.0000  2021    10   25   14  \n",
      "\n",
      "[5 rows x 26 columns]\n"
     ]
    }
   ],
   "execution_count": 33
  },
  {
   "metadata": {
    "ExecuteTime": {
     "end_time": "2025-02-02T15:24:52.113233Z",
     "start_time": "2025-02-02T15:24:52.084998Z"
    }
   },
   "cell_type": "code",
   "source": [
    "# 4. Filter the dataset for crimes that occurred in 2023. Further filter crimes with the description\n",
    "# BURGLARY in the Crm Cd Desc column\n",
    "df_2023_burglary = df_clean[\n",
    "    (df_clean[\"Year\"] == 2023) &\n",
    "    (df_clean[\"Crm Cd Desc\"].str.contains(\"BURGLARY\", case=False, na=False))\n",
    "    ]\n",
    "print(\"\\nFiltered dataset (2023 & 'BURGLARY'):\")\n",
    "print(df_2023_burglary.head())"
   ],
   "id": "9afcc8e348bda8e8",
   "outputs": [
    {
     "name": "stdout",
     "output_type": "stream",
     "text": [
      "\n",
      "Filtered dataset (2023 & 'BURGLARY'):\n",
      "         DR_NO               Date Rptd   DATE OCC TIME OCC  AREA  AREA NAME  \\\n",
      "47   231107877  04/15/2023 12:00:00 AM 2023-01-15     0500    11  Northeast   \n",
      "53   231312734  06/23/2023 12:00:00 AM 2023-06-23     1100    13     Newton   \n",
      "130  241305432  01/31/2024 12:00:00 AM 2023-07-31     2130    13     Newton   \n",
      "147  231912840  08/15/2023 12:00:00 AM 2023-08-14     2200    19    Mission   \n",
      "158  230817252  11/21/2023 12:00:00 AM 2023-11-21     1545     8    West LA   \n",
      "\n",
      "     Rpt Dist No  Part 1-2  Crm Cd            Crm Cd Desc  ... Status  \\\n",
      "47          1151         1     310               BURGLARY  ...     IC   \n",
      "53          1331         1     330  BURGLARY FROM VEHICLE  ...     IC   \n",
      "130         1385         1     330  BURGLARY FROM VEHICLE  ...     IC   \n",
      "147         1962         1     310               BURGLARY  ...     IC   \n",
      "158          802         1     330  BURGLARY FROM VEHICLE  ...     IC   \n",
      "\n",
      "     Status Desc Crm Cd 1                                  LOCATION      LAT  \\\n",
      "47   Invest Cont    310.0   5000 W  SUNSET                       BL  34.0981   \n",
      "53   Invest Cont    330.0   3200 S  GRAND                        AV  34.0216   \n",
      "130  Invest Cont    330.0   5800 S  CENTRAL                      AV  33.9857   \n",
      "147  Invest Cont    310.0  15000    CORE                         LN  34.2424   \n",
      "158  Invest Cont    330.0                    WILL ROGERS STATE PARK  34.0506   \n",
      "\n",
      "          LON  Year Month  Day Hour  \n",
      "47  -118.2983  2023     1   15    5  \n",
      "53  -118.2754  2023     6   23   11  \n",
      "130 -118.2628  2023     7   31   21  \n",
      "147 -118.4596  2023     8   14   22  \n",
      "158 -118.5131  2023    11   21   15  \n",
      "\n",
      "[5 rows x 26 columns]\n"
     ]
    }
   ],
   "execution_count": 34
  },
  {
   "metadata": {
    "collapsed": true,
    "ExecuteTime": {
     "end_time": "2025-02-02T15:24:52.131305Z",
     "start_time": "2025-02-02T15:24:52.119240Z"
    }
   },
   "cell_type": "code",
   "source": [
    "# 5. Group the data by AREA NAME and calculate the total number of crimes and the average victim age.\n",
    "# Sort the results by total crimes in descending order\n",
    "\n",
    "grouped_area = df_clean.groupby(\"AREA NAME\").agg(\n",
    "    Total_Crimes=(\"AREA NAME\", \"count\"),\n",
    "    Avg_Victim_Age=(\"Vict Age\", \"mean\")\n",
    ").reset_index().sort_values(by=\"Total_Crimes\", ascending=False)\n",
    "print(\"\\nGrouped by AREA NAME (total crimes and average victim age):\")\n",
    "print(grouped_area)"
   ],
   "id": "initial_id",
   "outputs": [
    {
     "name": "stdout",
     "output_type": "stream",
     "text": [
      "\n",
      "Grouped by AREA NAME (total crimes and average victim age):\n",
      "      AREA NAME  Total_Crimes  Avg_Victim_Age\n",
      "1       Central          3517       28.481376\n",
      "0   77th Street          3115       29.151525\n",
      "12      Pacific          3004       28.978029\n",
      "15    Southwest          2831       29.048040\n",
      "6     Hollywood          2556       28.331377\n",
      "9        Newton          2537       25.054789\n",
      "11      Olympic          2523       27.732858\n",
      "8   N Hollywood          2503       28.346784\n",
      "14    Southeast          2459       28.362749\n",
      "13      Rampart          2388       26.273451\n",
      "20     Wilshire          2379       29.595628\n",
      "18      West LA          2249       30.307248\n",
      "17     Van Nuys          2162       31.748381\n",
      "19  West Valley          2114       30.640492\n",
      "10    Northeast          2103       28.732763\n",
      "16      Topanga          2076       34.018786\n",
      "4        Harbor          2052       26.983918\n",
      "2    Devonshire          2031       29.597735\n",
      "7       Mission          1933       29.609415\n",
      "5    Hollenbeck          1843       26.158437\n",
      "3      Foothill          1625       30.511385\n"
     ]
    }
   ],
   "execution_count": 35
  },
  {
   "metadata": {},
   "cell_type": "markdown",
   "source": "",
   "id": "814d15e903ff4e6c"
  },
  {
   "metadata": {
    "ExecuteTime": {
     "end_time": "2025-02-02T15:24:52.157301Z",
     "start_time": "2025-02-02T15:24:52.151890Z"
    }
   },
   "cell_type": "code",
   "source": [
    "# --- Part 2 --- (Python only)\n",
    "\n",
    "# 1. Find the top 3 most frequent Crm Cd Desc values.\n",
    "\n",
    "top3_crm_cd_desc = df_clean[\"Crm Cd Desc\"].value_counts().head(3)\n",
    "print(\"\\nTop 3 most frequent Crm Cd Desc values:\")\n",
    "print(top3_crm_cd_desc)"
   ],
   "id": "b10c3f8996b6b809",
   "outputs": [
    {
     "name": "stdout",
     "output_type": "stream",
     "text": [
      "\n",
      "Top 3 most frequent Crm Cd Desc values:\n",
      "Crm Cd Desc\n",
      "VEHICLE - STOLEN            5733\n",
      "BATTERY - SIMPLE ASSAULT    3715\n",
      "THEFT OF IDENTITY           3169\n",
      "Name: count, dtype: int64\n"
     ]
    }
   ],
   "execution_count": 36
  },
  {
   "metadata": {
    "ExecuteTime": {
     "end_time": "2025-02-02T15:24:52.302777Z",
     "start_time": "2025-02-02T15:24:52.297261Z"
    }
   },
   "cell_type": "code",
   "source": [
    "# 2. Group the data by Hour and count the number of crimes\n",
    "grouped_hour = df_clean.groupby(\"Hour\").size().reset_index(name=\"Crime_Count\")\n",
    "print(\"\\nNumber of crimes by hour:\")\n",
    "print(grouped_hour.sort_values(\"Crime_Count\", ascending = False))"
   ],
   "id": "4a0b0487d3588a81",
   "outputs": [
    {
     "name": "stdout",
     "output_type": "stream",
     "text": [
      "\n",
      "Number of crimes by Hour:\n",
      "    Hour  Crime_Count\n",
      "12    12         3446\n",
      "18    18         3015\n",
      "17    17         2914\n",
      "20    20         2830\n",
      "19    19         2762\n",
      "15    15         2667\n",
      "16    16         2597\n",
      "21    21         2553\n",
      "14    14         2504\n",
      "22    22         2469\n",
      "13    13         2246\n",
      "11    11         2114\n",
      "10    10         2110\n",
      "23    23         2106\n",
      "0      0         2025\n",
      "9      9         1841\n",
      "8      8         1776\n",
      "1      1         1490\n",
      "7      7         1302\n",
      "2      2         1241\n",
      "6      6         1106\n",
      "3      3         1063\n",
      "4      4          975\n",
      "5      5          848\n"
     ]
    }
   ],
   "execution_count": 37
  },
  {
   "metadata": {
    "ExecuteTime": {
     "end_time": "2025-02-02T15:24:52.380016Z",
     "start_time": "2025-02-02T15:24:52.368918Z"
    }
   },
   "cell_type": "code",
   "source": [
    "# 3. Group the data by Vict Sex and calculate: Total crimes, Average victim age\n",
    "grouped_vict_sex = df_clean.groupby(\"Vict Sex\").agg(\n",
    "    Total_Crimes=(\"Vict Sex\", \"count\"),\n",
    "    Avg_Victim_Age=(\"Vict Age\", \"mean\")\n",
    ").reset_index()\n",
    "print(\"\\nGrouped by Vict Sex (total crimes and average victim age):\")\n",
    "print(grouped_vict_sex)"
   ],
   "id": "327fc1ddf9659142",
   "outputs": [
    {
     "name": "stdout",
     "output_type": "stream",
     "text": [
      "\n",
      "Grouped by Vict Sex (total crimes and average victim age):\n",
      "  Vict Sex  Total_Crimes  Avg_Victim_Age\n",
      "0        F         17922       38.164156\n",
      "1        H             3       36.333333\n",
      "2        M         20076       37.165621\n",
      "3        X          4836        2.672043\n"
     ]
    }
   ],
   "execution_count": 38
  },
  {
   "metadata": {
    "ExecuteTime": {
     "end_time": "2025-02-02T15:24:52.412235Z",
     "start_time": "2025-02-02T15:24:52.384548Z"
    }
   },
   "cell_type": "code",
   "source": [
    "# --- Part 4 (Python and R) ---\n",
    "\n",
    "# 1. Create a new column, Severity Score, based on the following rules:\n",
    "# • Assign 5 points if a weapon was used (Weapon Used Cd is not null).\n",
    "# • Assign 3 points for crimes under BURGLARY.\n",
    "# • Assign 1 point for all other crimes.\n",
    "# • Group by AREA NAME and find the total severity score for each area.\n",
    "import numpy as np\n",
    "\n",
    "df[\"Severity Score\"] = np.where(\n",
    "    df[\"Weapon Used Cd\"].notnull(),\n",
    "    5,\n",
    "    np.where(\n",
    "        df[\"Crm Cd Desc\"].str.contains(\"BURGLARY\", case=False, na=False),\n",
    "        3,\n",
    "        1\n",
    "    )\n",
    ")\n",
    "\n",
    "# Group by AREA NAME and sum the Severity Score for each area.\n",
    "grouped_severity = df.groupby(\"AREA NAME\")[\"Severity Score\"].sum().reset_index()\n",
    "grouped_severity = grouped_severity.rename(columns={\"Severity Score\": \"Total Severity Score\"})\n",
    "\n",
    "print(\"Total Severity Score by AREA NAME:\")\n",
    "print(grouped_severity)"
   ],
   "id": "e745a7028fb033e8",
   "outputs": [
    {
     "name": "stdout",
     "output_type": "stream",
     "text": [
      "Total Severity Score by AREA NAME:\n",
      "      AREA NAME  Total Severity Score\n",
      "0   77th Street                  9439\n",
      "1       Central                  9513\n",
      "2    Devonshire                  4703\n",
      "3      Foothill                  3969\n",
      "4        Harbor                  5096\n",
      "5    Hollenbeck                  4615\n",
      "6     Hollywood                  6950\n",
      "7       Mission                  4665\n",
      "8   N Hollywood                  5789\n",
      "9        Newton                  7047\n",
      "10    Northeast                  4789\n",
      "11      Olympic                  6605\n",
      "12      Pacific                  6830\n",
      "13      Rampart                  6478\n",
      "14    Southeast                  7283\n",
      "15    Southwest                  7241\n",
      "16      Topanga                  4724\n",
      "17     Van Nuys                  5028\n",
      "18      West LA                  5005\n",
      "19  West Valley                  5286\n",
      "20     Wilshire                  5563\n"
     ]
    }
   ],
   "execution_count": 39
  }
 ],
 "metadata": {
  "kernelspec": {
   "display_name": "Python 3",
   "language": "python",
   "name": "python3"
  },
  "language_info": {
   "codemirror_mode": {
    "name": "ipython",
    "version": 2
   },
   "file_extension": ".py",
   "mimetype": "text/x-python",
   "name": "python",
   "nbconvert_exporter": "python",
   "pygments_lexer": "ipython2",
   "version": "2.7.6"
  }
 },
 "nbformat": 4,
 "nbformat_minor": 5
}
